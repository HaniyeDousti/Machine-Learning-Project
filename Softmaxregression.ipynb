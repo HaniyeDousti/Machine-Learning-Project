{
  "nbformat": 4,
  "nbformat_minor": 0,
  "metadata": {
    "colab": {
      "provenance": [],
      "authorship_tag": "ABX9TyOtggXJQiQbwYcMi3b3xJtv",
      "include_colab_link": true
    },
    "kernelspec": {
      "name": "python3",
      "display_name": "Python 3"
    },
    "language_info": {
      "name": "python"
    }
  },
  "cells": [
    {
      "cell_type": "markdown",
      "metadata": {
        "id": "view-in-github",
        "colab_type": "text"
      },
      "source": [
        "<a href=\"https://colab.research.google.com/github/HaniyeDousti/Machine-Learning-Project/blob/main/Softmaxregression.ipynb\" target=\"_parent\"><img src=\"https://colab.research.google.com/assets/colab-badge.svg\" alt=\"Open In Colab\"/></a>"
      ]
    },
    {
      "cell_type": "code",
      "source": [
        "import numpy as np\n",
        "from time import time\n",
        "#from .._base import _BaseClassifier\n",
        "#from .._base import _BaseMultiClass\n",
        "\n",
        "\n",
        "class SoftmaxRegression(object):\n",
        "\n",
        "    \"\"\"Softmax regression classifier.\n",
        "\n",
        "    Parameters\n",
        "    ------------\n",
        "    eta : float (default: 0.01)\n",
        "        Learning rate (between 0.0 and 1.0)\n",
        "    epochs : int (default: 50)\n",
        "        Passes over the training dataset.\n",
        "        Prior to each epoch, the dataset is shuffled\n",
        "        if `minibatches > 1` to prevent cycles in stochastic gradient descent.\n",
        "    l2 : float\n",
        "        Regularization parameter for L2 regularization.\n",
        "        No regularization if l2=0.0.\n",
        "    minibatches : int (default: 1)\n",
        "        The number of minibatches for gradient-based optimization.\n",
        "        If 1: Gradient Descent learning\n",
        "        If len(y): Stochastic Gradient Descent (SGD) online learning\n",
        "        If 1 < minibatches < len(y): SGD Minibatch learning\n",
        "    n_classes : int (default: None)\n",
        "        A positive integer to declare the number of class labels\n",
        "        if not all class labels are present in a partial training set.\n",
        "        Gets the number of class labels automatically if None.\n",
        "    random_seed : int (default: None)\n",
        "        Set random state for shuffling and initializing the weights.\n",
        "\n",
        "    Attributes\n",
        "    -----------\n",
        "    w_ : 2d-array, shape={n_features, 1}\n",
        "      Model weights after fitting.\n",
        "    b_ : 1d-array, shape={1,}\n",
        "      Bias unit after fitting.\n",
        "    cost_ : list\n",
        "        List of floats, the average cross_entropy for each epoch.\n",
        "\n",
        "    \"\"\"\n",
        "    def __init__(self, eta=0.01, epochs=50,\n",
        "                 l2=0.0,\n",
        "                 minibatches=1,\n",
        "                 n_classes=None,\n",
        "                 random_seed=None):\n",
        "\n",
        "        self.eta = eta\n",
        "        self.epochs = epochs\n",
        "        self.l2 = l2\n",
        "        self.minibatches = minibatches\n",
        "        self.n_classes = n_classes\n",
        "        self.random_seed = random_seed\n",
        "\n",
        "    def _fit(self, X, y, init_params=True):\n",
        "        if init_params:\n",
        "            if self.n_classes is None:\n",
        "                self.n_classes = np.max(y) + 1\n",
        "            self._n_features = X.shape[1]\n",
        "\n",
        "            self.b_, self.w_ = self._init_params(\n",
        "                weights_shape=(self._n_features, self.n_classes),\n",
        "                bias_shape=(self.n_classes,),\n",
        "                random_seed=self.random_seed)\n",
        "            self.cost_ = []\n",
        "\n",
        "        y_enc = self._one_hot(y=y, n_labels=self.n_classes, dtype=np.float)\n",
        "\n",
        "        for i in range(self.epochs):\n",
        "            for idx in self._yield_minibatches_idx(\n",
        "                    n_batches=self.minibatches,\n",
        "                    data_ary=y,\n",
        "                    shuffle=True):\n",
        "                # givens:\n",
        "                # w_ -> n_feat x n_classes\n",
        "                # b_  -> n_classes\n",
        "\n",
        "                # net_input, softmax and diff -> n_samples x n_classes:\n",
        "                net = self._net_input(X[idx], self.w_, self.b_)\n",
        "                softm = self._softmax(net)\n",
        "                diff = softm - y_enc[idx]\n",
        "                mse = np.mean(diff, axis=0)\n",
        "\n",
        "                # gradient -> n_features x n_classes\n",
        "                grad = np.dot(X[idx].T, diff)\n",
        "                \n",
        "                # update in opp. direction of the cost gradient\n",
        "                self.w_ -= (self.eta * grad +\n",
        "                            self.eta * self.l2 * self.w_)\n",
        "                self.b_ -= (self.eta * np.sum(diff, axis=0))\n",
        "\n",
        "            # compute cost of the whole epoch\n",
        "            net = self._net_input(X, self.w_, self.b_)\n",
        "            softm = self._softmax(net)\n",
        "            cross_ent = self._cross_entropy(output=softm, y_target=y_enc)\n",
        "            cost = self._cost(cross_ent)\n",
        "            self.cost_.append(cost)\n",
        "        return self\n",
        "\n",
        "    def fit(self, X, y, init_params=True):\n",
        "        \"\"\"Learn model from training data.\n",
        "\n",
        "        Parameters\n",
        "        ----------\n",
        "        X : {array-like, sparse matrix}, shape = [n_samples, n_features]\n",
        "            Training vectors, where n_samples is the number of samples and\n",
        "            n_features is the number of features.\n",
        "        y : array-like, shape = [n_samples]\n",
        "            Target values.\n",
        "        init_params : bool (default: True)\n",
        "            Re-initializes model parametersprior to fitting.\n",
        "            Set False to continue training with weights from\n",
        "            a previous model fitting.\n",
        "\n",
        "        Returns\n",
        "        -------\n",
        "        self : object\n",
        "\n",
        "        \"\"\"\n",
        "        if self.random_seed is not None:\n",
        "            np.random.seed(self.random_seed)\n",
        "        self._fit(X=X, y=y, init_params=init_params)\n",
        "        self._is_fitted = True\n",
        "        return self\n",
        "    \n",
        "    def _predict(self, X):\n",
        "        probas = self.predict_proba(X)\n",
        "        return self._to_classlabels(probas)\n",
        " \n",
        "    def predict(self, X):\n",
        "        \"\"\"Predict targets from X.\n",
        "\n",
        "        Parameters\n",
        "        ----------\n",
        "        X : {array-like, sparse matrix}, shape = [n_samples, n_features]\n",
        "            Training vectors, where n_samples is the number of samples and\n",
        "            n_features is the number of features.\n",
        "\n",
        "        Returns\n",
        "        ----------\n",
        "        target_values : array-like, shape = [n_samples]\n",
        "          Predicted target values.\n",
        "\n",
        "        \"\"\"\n",
        "        if not self._is_fitted:\n",
        "            raise AttributeError('Model is not fitted, yet.')\n",
        "        return self._predict(X)\n",
        "\n",
        "    def predict_proba(self, X):\n",
        "        \"\"\"Predict class probabilities of X from the net input.\n",
        "\n",
        "        Parameters\n",
        "        ----------\n",
        "        X : {array-like, sparse matrix}, shape = [n_samples, n_features]\n",
        "            Training vectors, where n_samples is the number of samples and\n",
        "            n_features is the number of features.\n",
        "\n",
        "        Returns\n",
        "        ----------\n",
        "        Class probabilties : array-like, shape= [n_samples, n_classes]\n",
        "\n",
        "        \"\"\"\n",
        "        net = self._net_input(X, self.w_, self.b_)\n",
        "        softm = self._softmax(net)\n",
        "        return softm\n",
        "\n",
        "    def _net_input(self, X, W, b):\n",
        "        return (X.dot(W) + b)\n",
        "\n",
        "    def _softmax(self, z):\n",
        "        return (np.exp(z.T) / np.sum(np.exp(z), axis=1)).T\n",
        "\n",
        "    def _cross_entropy(self, output, y_target):\n",
        "        return - np.sum(np.log(output) * (y_target), axis=1)\n",
        "\n",
        "    def _cost(self, cross_entropy):\n",
        "        L2_term = self.l2 * np.sum(self.w_ ** 2)\n",
        "        cross_entropy = cross_entropy + L2_term\n",
        "        return 0.5 * np.mean(cross_entropy)\n",
        "\n",
        "    def _to_classlabels(self, z):\n",
        "        return z.argmax(axis=1)\n",
        "    \n",
        "    def _init_params(self, weights_shape, bias_shape=(1,), dtype='float64',\n",
        "                     scale=0.01, random_seed=None):\n",
        "        \"\"\"Initialize weight coefficients.\"\"\"\n",
        "        if random_seed:\n",
        "            np.random.seed(random_seed)\n",
        "        w = np.random.normal(loc=0.0, scale=scale, size=weights_shape)\n",
        "        b = np.zeros(shape=bias_shape)\n",
        "        return b.astype(dtype), w.astype(dtype)\n",
        "    \n",
        "    def _one_hot(self, y, n_labels, dtype):\n",
        "        \"\"\"Returns a matrix where each sample in y is represented\n",
        "           as a row, and each column represents the class label in\n",
        "           the one-hot encoding scheme.\n",
        "\n",
        "        Example:\n",
        "\n",
        "            y = np.array([0, 1, 2, 3, 4, 2])\n",
        "            mc = _BaseMultiClass()\n",
        "            mc._one_hot(y=y, n_labels=5, dtype='float')\n",
        "\n",
        "            np.array([[1., 0., 0., 0., 0.],\n",
        "                      [0., 1., 0., 0., 0.],\n",
        "                      [0., 0., 1., 0., 0.],\n",
        "                      [0., 0., 0., 1., 0.],\n",
        "                      [0., 0., 0., 0., 1.],\n",
        "                      [0., 0., 1., 0., 0.]])\n",
        "\n",
        "        \"\"\"\n",
        "        mat = np.zeros((len(y), n_labels))\n",
        "        for i, val in enumerate(y):\n",
        "            mat[i, val] = 1\n",
        "        return mat.astype(dtype)    \n",
        "    \n",
        "    def _yield_minibatches_idx(self, n_batches, data_ary, shuffle=True):\n",
        "            indices = np.arange(data_ary.shape[0])\n",
        "\n",
        "            if shuffle:\n",
        "                indices = np.random.permutation(indices)\n",
        "            if n_batches > 1:\n",
        "                remainder = data_ary.shape[0] % n_batches\n",
        "\n",
        "                if remainder:\n",
        "                    minis = np.array_split(indices[:-remainder], n_batches)\n",
        "                    minis[-1] = np.concatenate((minis[-1],\n",
        "                                                indices[-remainder:]),\n",
        "                                               axis=0)\n",
        "                else:\n",
        "                    minis = np.array_split(indices, n_batches)\n",
        "\n",
        "            else:\n",
        "                minis = (indices,)\n",
        "\n",
        "            for idx_batch in minis:\n",
        "                yield idx_batch\n",
        "    \n",
        "    def _shuffle_arrays(self, arrays):\n",
        "        \"\"\"Shuffle arrays in unison.\"\"\"\n",
        "        r = np.random.permutation(len(arrays[0]))\n",
        "        return [ary[r] for ary in arrays]"
      ],
      "metadata": {
        "id": "V3EM6duAOMoR"
      },
      "execution_count": 57,
      "outputs": []
    },
    {
      "cell_type": "markdown",
      "source": [
        "**1. Gradient Descent** "
      ],
      "metadata": {
        "id": "QQpkEbfRX8rt"
      }
    },
    {
      "cell_type": "code",
      "execution_count": 58,
      "metadata": {
        "id": "03AOmImFB5RJ"
      },
      "outputs": [],
      "source": [
        "import numpy as np\n",
        "import matplotlib.pyplot as plt\n",
        "from mlxtend.data import iris_datplot_decision_regionsa\n",
        "from mlxtend.plotting import \n"
      ]
    },
    {
      "cell_type": "markdown",
      "source": [
        "Loading Data"
      ],
      "metadata": {
        "id": "lB9WLS9mFaMx"
      }
    },
    {
      "cell_type": "code",
      "source": [
        "X, y = iris_data()\n",
        "X = X[:, [0, 3]]"
      ],
      "metadata": {
        "id": "oR1SzdNSB7_m"
      },
      "execution_count": 41,
      "outputs": []
    },
    {
      "cell_type": "code",
      "source": [
        "X"
      ],
      "metadata": {
        "colab": {
          "base_uri": "https://localhost:8080/"
        },
        "id": "yFPL-VfDXISl",
        "outputId": "e9c81c70-a7d6-42a3-fe3b-a1cf6fb13ed8"
      },
      "execution_count": 52,
      "outputs": [
        {
          "output_type": "execute_result",
          "data": {
            "text/plain": [
              "array([[-7.43333333e-01, -9.98666667e-01],\n",
              "       [-9.43333333e-01, -9.98666667e-01],\n",
              "       [-1.14333333e+00, -9.98666667e-01],\n",
              "       [-1.24333333e+00, -9.98666667e-01],\n",
              "       [-8.43333333e-01, -9.98666667e-01],\n",
              "       [-4.43333333e-01, -7.98666667e-01],\n",
              "       [-1.24333333e+00, -8.98666667e-01],\n",
              "       [-8.43333333e-01, -9.98666667e-01],\n",
              "       [-1.44333333e+00, -9.98666667e-01],\n",
              "       [-9.43333333e-01, -1.09866667e+00],\n",
              "       [-4.43333333e-01, -9.98666667e-01],\n",
              "       [-1.04333333e+00, -9.98666667e-01],\n",
              "       [-1.04333333e+00, -1.09866667e+00],\n",
              "       [-1.54333333e+00, -1.09866667e+00],\n",
              "       [-4.33333333e-02, -9.98666667e-01],\n",
              "       [-1.43333333e-01, -7.98666667e-01],\n",
              "       [-4.43333333e-01, -7.98666667e-01],\n",
              "       [-7.43333333e-01, -8.98666667e-01],\n",
              "       [-1.43333333e-01, -8.98666667e-01],\n",
              "       [-7.43333333e-01, -8.98666667e-01],\n",
              "       [-4.43333333e-01, -9.98666667e-01],\n",
              "       [-7.43333333e-01, -7.98666667e-01],\n",
              "       [-1.24333333e+00, -9.98666667e-01],\n",
              "       [-7.43333333e-01, -6.98666667e-01],\n",
              "       [-1.04333333e+00, -9.98666667e-01],\n",
              "       [-8.43333333e-01, -9.98666667e-01],\n",
              "       [-8.43333333e-01, -7.98666667e-01],\n",
              "       [-6.43333333e-01, -9.98666667e-01],\n",
              "       [-6.43333333e-01, -9.98666667e-01],\n",
              "       [-1.14333333e+00, -9.98666667e-01],\n",
              "       [-1.04333333e+00, -9.98666667e-01],\n",
              "       [-4.43333333e-01, -7.98666667e-01],\n",
              "       [-6.43333333e-01, -1.09866667e+00],\n",
              "       [-3.43333333e-01, -9.98666667e-01],\n",
              "       [-9.43333333e-01, -1.09866667e+00],\n",
              "       [-8.43333333e-01, -9.98666667e-01],\n",
              "       [-3.43333333e-01, -9.98666667e-01],\n",
              "       [-9.43333333e-01, -1.09866667e+00],\n",
              "       [-1.44333333e+00, -9.98666667e-01],\n",
              "       [-7.43333333e-01, -9.98666667e-01],\n",
              "       [-8.43333333e-01, -8.98666667e-01],\n",
              "       [-1.34333333e+00, -8.98666667e-01],\n",
              "       [-1.44333333e+00, -9.98666667e-01],\n",
              "       [-8.43333333e-01, -5.98666667e-01],\n",
              "       [-7.43333333e-01, -7.98666667e-01],\n",
              "       [-1.04333333e+00, -8.98666667e-01],\n",
              "       [-7.43333333e-01, -9.98666667e-01],\n",
              "       [-1.24333333e+00, -9.98666667e-01],\n",
              "       [-5.43333333e-01, -9.98666667e-01],\n",
              "       [-8.43333333e-01, -9.98666667e-01],\n",
              "       [ 1.15666667e+00,  2.01333333e-01],\n",
              "       [ 5.56666667e-01,  3.01333333e-01],\n",
              "       [ 1.05666667e+00,  3.01333333e-01],\n",
              "       [-3.43333333e-01,  1.01333333e-01],\n",
              "       [ 6.56666667e-01,  3.01333333e-01],\n",
              "       [-1.43333333e-01,  1.01333333e-01],\n",
              "       [ 4.56666667e-01,  4.01333333e-01],\n",
              "       [-9.43333333e-01, -1.98666667e-01],\n",
              "       [ 7.56666667e-01,  1.01333333e-01],\n",
              "       [-6.43333333e-01,  2.01333333e-01],\n",
              "       [-8.43333333e-01, -1.98666667e-01],\n",
              "       [ 5.66666667e-02,  3.01333333e-01],\n",
              "       [ 1.56666667e-01, -1.98666667e-01],\n",
              "       [ 2.56666667e-01,  2.01333333e-01],\n",
              "       [-2.43333333e-01,  1.01333333e-01],\n",
              "       [ 8.56666667e-01,  2.01333333e-01],\n",
              "       [-2.43333333e-01,  3.01333333e-01],\n",
              "       [-4.33333333e-02, -1.98666667e-01],\n",
              "       [ 3.56666667e-01,  3.01333333e-01],\n",
              "       [-2.43333333e-01, -9.86666667e-02],\n",
              "       [ 5.66666667e-02,  6.01333333e-01],\n",
              "       [ 2.56666667e-01,  1.01333333e-01],\n",
              "       [ 4.56666667e-01,  3.01333333e-01],\n",
              "       [ 2.56666667e-01,  1.33333333e-03],\n",
              "       [ 5.56666667e-01,  1.01333333e-01],\n",
              "       [ 7.56666667e-01,  2.01333333e-01],\n",
              "       [ 9.56666667e-01,  2.01333333e-01],\n",
              "       [ 8.56666667e-01,  5.01333333e-01],\n",
              "       [ 1.56666667e-01,  3.01333333e-01],\n",
              "       [-1.43333333e-01, -1.98666667e-01],\n",
              "       [-3.43333333e-01, -9.86666667e-02],\n",
              "       [-3.43333333e-01, -1.98666667e-01],\n",
              "       [-4.33333333e-02,  1.33333333e-03],\n",
              "       [ 1.56666667e-01,  4.01333333e-01],\n",
              "       [-4.43333333e-01,  3.01333333e-01],\n",
              "       [ 1.56666667e-01,  4.01333333e-01],\n",
              "       [ 8.56666667e-01,  3.01333333e-01],\n",
              "       [ 4.56666667e-01,  1.01333333e-01],\n",
              "       [-2.43333333e-01,  1.01333333e-01],\n",
              "       [-3.43333333e-01,  1.01333333e-01],\n",
              "       [-3.43333333e-01,  1.33333333e-03],\n",
              "       [ 2.56666667e-01,  2.01333333e-01],\n",
              "       [-4.33333333e-02,  1.33333333e-03],\n",
              "       [-8.43333333e-01, -1.98666667e-01],\n",
              "       [-2.43333333e-01,  1.01333333e-01],\n",
              "       [-1.43333333e-01,  1.33333333e-03],\n",
              "       [-1.43333333e-01,  1.01333333e-01],\n",
              "       [ 3.56666667e-01,  1.01333333e-01],\n",
              "       [-7.43333333e-01, -9.86666667e-02],\n",
              "       [-1.43333333e-01,  1.01333333e-01],\n",
              "       [ 4.56666667e-01,  1.30133333e+00],\n",
              "       [-4.33333333e-02,  7.01333333e-01],\n",
              "       [ 1.25666667e+00,  9.01333333e-01],\n",
              "       [ 4.56666667e-01,  6.01333333e-01],\n",
              "       [ 6.56666667e-01,  1.00133333e+00],\n",
              "       [ 1.75666667e+00,  9.01333333e-01],\n",
              "       [-9.43333333e-01,  5.01333333e-01],\n",
              "       [ 1.45666667e+00,  6.01333333e-01],\n",
              "       [ 8.56666667e-01,  6.01333333e-01],\n",
              "       [ 1.35666667e+00,  1.30133333e+00],\n",
              "       [ 6.56666667e-01,  8.01333333e-01],\n",
              "       [ 5.56666667e-01,  7.01333333e-01],\n",
              "       [ 9.56666667e-01,  9.01333333e-01],\n",
              "       [-1.43333333e-01,  8.01333333e-01],\n",
              "       [-4.33333333e-02,  1.20133333e+00],\n",
              "       [ 5.56666667e-01,  1.10133333e+00],\n",
              "       [ 6.56666667e-01,  6.01333333e-01],\n",
              "       [ 1.85666667e+00,  1.00133333e+00],\n",
              "       [ 1.85666667e+00,  1.10133333e+00],\n",
              "       [ 1.56666667e-01,  3.01333333e-01],\n",
              "       [ 1.05666667e+00,  1.10133333e+00],\n",
              "       [-2.43333333e-01,  8.01333333e-01],\n",
              "       [ 1.85666667e+00,  8.01333333e-01],\n",
              "       [ 4.56666667e-01,  6.01333333e-01],\n",
              "       [ 8.56666667e-01,  9.01333333e-01],\n",
              "       [ 1.35666667e+00,  6.01333333e-01],\n",
              "       [ 3.56666667e-01,  6.01333333e-01],\n",
              "       [ 2.56666667e-01,  6.01333333e-01],\n",
              "       [ 5.56666667e-01,  9.01333333e-01],\n",
              "       [ 1.35666667e+00,  4.01333333e-01],\n",
              "       [ 1.55666667e+00,  7.01333333e-01],\n",
              "       [ 2.05666667e+00,  8.01333333e-01],\n",
              "       [ 5.56666667e-01,  1.00133333e+00],\n",
              "       [ 4.56666667e-01,  3.01333333e-01],\n",
              "       [ 2.56666667e-01,  2.01333333e-01],\n",
              "       [ 1.85666667e+00,  1.10133333e+00],\n",
              "       [ 4.56666667e-01,  1.20133333e+00],\n",
              "       [ 5.56666667e-01,  6.01333333e-01],\n",
              "       [ 1.56666667e-01,  6.01333333e-01],\n",
              "       [ 1.05666667e+00,  9.01333333e-01],\n",
              "       [ 8.56666667e-01,  1.20133333e+00],\n",
              "       [ 1.05666667e+00,  1.10133333e+00],\n",
              "       [-4.33333333e-02,  7.01333333e-01],\n",
              "       [ 9.56666667e-01,  1.10133333e+00],\n",
              "       [ 8.56666667e-01,  1.30133333e+00],\n",
              "       [ 8.56666667e-01,  1.10133333e+00],\n",
              "       [ 4.56666667e-01,  7.01333333e-01],\n",
              "       [ 6.56666667e-01,  8.01333333e-01],\n",
              "       [ 3.56666667e-01,  1.10133333e+00],\n",
              "       [ 5.66666667e-02,  6.01333333e-01]])"
            ]
          },
          "metadata": {},
          "execution_count": 52
        }
      ]
    },
    {
      "cell_type": "code",
      "source": [
        "y"
      ],
      "metadata": {
        "colab": {
          "base_uri": "https://localhost:8080/"
        },
        "id": "jY_6PlNNXJB9",
        "outputId": "a8c8fcb7-ebed-4ba6-befb-86cd23c64b62"
      },
      "execution_count": 53,
      "outputs": [
        {
          "output_type": "execute_result",
          "data": {
            "text/plain": [
              "array([0, 0, 0, 0, 0, 0, 0, 0, 0, 0, 0, 0, 0, 0, 0, 0, 0, 0, 0, 0, 0, 0,\n",
              "       0, 0, 0, 0, 0, 0, 0, 0, 0, 0, 0, 0, 0, 0, 0, 0, 0, 0, 0, 0, 0, 0,\n",
              "       0, 0, 0, 0, 0, 0, 1, 1, 1, 1, 1, 1, 1, 1, 1, 1, 1, 1, 1, 1, 1, 1,\n",
              "       1, 1, 1, 1, 1, 1, 1, 1, 1, 1, 1, 1, 1, 1, 1, 1, 1, 1, 1, 1, 1, 1,\n",
              "       1, 1, 1, 1, 1, 1, 1, 1, 1, 1, 1, 1, 2, 2, 2, 2, 2, 2, 2, 2, 2, 2,\n",
              "       2, 2, 2, 2, 2, 2, 2, 2, 2, 2, 2, 2, 2, 2, 2, 2, 2, 2, 2, 2, 2, 2,\n",
              "       2, 2, 2, 2, 2, 2, 2, 2, 2, 2, 2, 2, 2, 2, 2, 2, 2, 2])"
            ]
          },
          "metadata": {},
          "execution_count": 53
        }
      ]
    },
    {
      "cell_type": "markdown",
      "source": [
        "Standardize"
      ],
      "metadata": {
        "id": "MFWN_Yr2Ii8H"
      }
    },
    {
      "cell_type": "code",
      "source": [
        "X[:, 0] = (X[:,0] - X[:, 0].mean())\n",
        "X[:, 1] = (X[:, 1] - X[:, 1].mean())"
      ],
      "metadata": {
        "id": "BSkT5YEiDWNv"
      },
      "execution_count": 44,
      "outputs": []
    },
    {
      "cell_type": "code",
      "source": [
        "lr = SoftmaxRegression(eta=0.01, epochs=10, minibatches=1, random_seed=0)"
      ],
      "metadata": {
        "id": "LxIKjhK3I7UB"
      },
      "execution_count": 45,
      "outputs": []
    },
    {
      "cell_type": "code",
      "source": [
        "lr.fit(X, y)"
      ],
      "metadata": {
        "colab": {
          "base_uri": "https://localhost:8080/"
        },
        "id": "xS7q_BLKOf6f",
        "outputId": "9458e48b-076e-4959-a0dd-32a4c177b9e1"
      },
      "execution_count": 46,
      "outputs": [
        {
          "output_type": "stream",
          "name": "stderr",
          "text": [
            "<ipython-input-25-52383643315a>:69: DeprecationWarning: `np.float` is a deprecated alias for the builtin `float`. To silence this warning, use `float` by itself. Doing this will not modify any behavior and is safe. If you specifically wanted the numpy scalar type, use `np.float64` here.\n",
            "Deprecated in NumPy 1.20; for more details and guidance: https://numpy.org/devdocs/release/1.20.0-notes.html#deprecations\n",
            "  y_enc = self._one_hot(y=y, n_labels=self.n_classes, dtype=np.float)\n"
          ]
        },
        {
          "output_type": "execute_result",
          "data": {
            "text/plain": [
              "<__main__.SoftmaxRegression at 0x7f8dc5691370>"
            ]
          },
          "metadata": {},
          "execution_count": 46
        }
      ]
    },
    {
      "cell_type": "code",
      "source": [
        "plot_decision_regions(X, y, clf=lr)\n",
        "plt.title('Softmax Regression - Gradient Descent')\n",
        "plt.show()\n",
        "\n",
        "plt.plot(range(len(lr.cost_)), lr.cost_)\n",
        "plt.xlabel('Iteration')\n",
        "plt.ylabel('Cost')\n",
        "plt.show"
      ],
      "metadata": {
        "colab": {
          "base_uri": "https://localhost:8080/",
          "height": 560
        },
        "id": "mxhtA59-Ovml",
        "outputId": "00a0fc19-b283-43b2-d090-d13b1e3841cf"
      },
      "execution_count": 47,
      "outputs": [
        {
          "output_type": "display_data",
          "data": {
            "text/plain": [
              "<Figure size 432x288 with 1 Axes>"
            ],
            "image/png": "[encoded data removed]"
          },
          "metadata": {
            "needs_background": "light"
          }
        },
        {
          "output_type": "execute_result",
          "data": {
            "text/plain": [
              "<function matplotlib.pyplot.show(*args, **kw)>"
            ]
          },
          "metadata": {},
          "execution_count": 47
        },
        {
          "output_type": "display_data",
          "data": {
            "text/plain": [
              "<Figure size 432x288 with 1 Axes>"
            ],
            "image/png": "[encoded data removed]"
          },
          "metadata": {
            "needs_background": "light"
          }
        }
      ]
    },
    {
      "cell_type": "code",
      "source": [
        "lr.epochs = 800\n",
        "\n",
        "lr.fit(X, y, init_params=False)\n",
        "\n",
        "plot_decision_regions(X, y, clf=lr)\n",
        "plt.title('Softmax Regression - Stochastic Gradient Descent')\n",
        "plt.show()\n",
        "\n",
        "plt.plot(range(len(lr.cost_)), lr.cost_)\n",
        "plt.xlabel('Iteration')\n",
        "plt.ylabel('Cost')\n",
        "plt.show()"
      ],
      "metadata": {
        "colab": {
          "base_uri": "https://localhost:8080/",
          "height": 615
        },
        "id": "Yc8xlYyPQ9-Q",
        "outputId": "64056c88-15a9-4fce-ab28-72ded930d803"
      },
      "execution_count": 48,
      "outputs": [
        {
          "output_type": "stream",
          "name": "stderr",
          "text": [
            "<ipython-input-25-52383643315a>:69: DeprecationWarning: `np.float` is a deprecated alias for the builtin `float`. To silence this warning, use `float` by itself. Doing this will not modify any behavior and is safe. If you specifically wanted the numpy scalar type, use `np.float64` here.\n",
            "Deprecated in NumPy 1.20; for more details and guidance: https://numpy.org/devdocs/release/1.20.0-notes.html#deprecations\n",
            "  y_enc = self._one_hot(y=y, n_labels=self.n_classes, dtype=np.float)\n"
          ]
        },
        {
          "output_type": "display_data",
          "data": {
            "text/plain": [
              "<Figure size 432x288 with 1 Axes>"
            ],
            "image/png": "[encoded data removed]"
          },
          "metadata": {
            "needs_background": "light"
          }
        },
        {
          "output_type": "display_data",
          "data": {
            "text/plain": [
              "<Figure size 432x288 with 1 Axes>"
            ],
            "image/png": "[encoded data removed]"
          },
          "metadata": {
            "needs_background": "light"
          }
        }
      ]
    },
    {
      "cell_type": "markdown",
      "source": [
        "**Predicting Class Label**"
      ],
      "metadata": {
        "id": "72OSjFiISE3U"
      }
    },
    {
      "cell_type": "code",
      "source": [
        "y_pred = lr.predict(X)\n",
        "print('Last 3 Class Labels: %s' % y_pred[-3:])"
      ],
      "metadata": {
        "colab": {
          "base_uri": "https://localhost:8080/"
        },
        "id": "2sG84NF1SIOE",
        "outputId": "6c3fe3f8-0d46-47ce-814d-7d3e1b15b3c2"
      },
      "execution_count": 54,
      "outputs": [
        {
          "output_type": "stream",
          "name": "stdout",
          "text": [
            "Last 3 Class Labels: [2 2 2]\n"
          ]
        }
      ]
    },
    {
      "cell_type": "markdown",
      "source": [
        "**Predicting Class Probabilities**"
      ],
      "metadata": {
        "id": "A-i4ZM9wXe5s"
      }
    },
    {
      "cell_type": "code",
      "source": [
        "y_pred = lr.predict_proba(X)\n",
        "print('Last 3 Class Labels: \\n %s' % y_pred[-3:])"
      ],
      "metadata": {
        "colab": {
          "base_uri": "https://localhost:8080/"
        },
        "id": "Cd5hm-59Xerc",
        "outputId": "a0c7f9b6-f3a2-4794-a58d-918cee8f6238"
      },
      "execution_count": 55,
      "outputs": [
        {
          "output_type": "stream",
          "name": "stdout",
          "text": [
            "Last 3 Class Labels: \n",
            " [[8.04165704e-09 1.74309906e-02 9.82569001e-01]\n",
            " [2.86446606e-11 7.69405946e-04 9.99230594e-01]\n",
            " [1.48322727e-06 1.60370175e-01 8.39628341e-01]]\n"
          ]
        }
      ]
    },
    {
      "cell_type": "markdown",
      "source": [
        "**2. Stochastic Gradient Descent**"
      ],
      "metadata": {
        "id": "3JKxygX5YFGi"
      }
    },
    {
      "cell_type": "code",
      "source": [
        "from mlxtend.data import iris_data\n",
        "from mlxtend.plotting import plot_decision_regions\n",
        "import matplotlib.pyplot as plt"
      ],
      "metadata": {
        "id": "4RipW7UkcaqP"
      },
      "execution_count": null,
      "outputs": []
    },
    {
      "cell_type": "markdown",
      "source": [
        "**Loading Data**"
      ],
      "metadata": {
        "id": "oQX2KvQ5ecPp"
      }
    },
    {
      "cell_type": "code",
      "source": [
        "X, y = iris_data()\n",
        "X = X[:, [0, 3]]"
      ],
      "metadata": {
        "id": "GPHdzCshee1R"
      },
      "execution_count": 61,
      "outputs": []
    },
    {
      "cell_type": "markdown",
      "source": [
        "**standardize**"
      ],
      "metadata": {
        "id": "ijU7YqdDetZn"
      }
    },
    {
      "cell_type": "code",
      "source": [
        "X[:, 0] = (X[:,0] - X[:,0].mean()) / X[:,0].std()\n",
        "X[:, 1] = (X[:,1] - X[:,1].mean()) / X[:,1].std()"
      ],
      "metadata": {
        "id": "CuzvlhHGebvo"
      },
      "execution_count": 63,
      "outputs": []
    },
    {
      "cell_type": "code",
      "source": [
        "lr = SoftmaxRegression(eta=0.05, epochs=200, minibatches=len(y), random_seed=0)\n",
        "lr.fit(X, y)"
      ],
      "metadata": {
        "colab": {
          "base_uri": "https://localhost:8080/"
        },
        "id": "a5_r2c4agWp9",
        "outputId": "553b6f13-5450-4e17-e39c-02774ab48a4d"
      },
      "execution_count": 64,
      "outputs": [
        {
          "output_type": "stream",
          "name": "stderr",
          "text": [
            "<ipython-input-57-52383643315a>:69: DeprecationWarning: `np.float` is a deprecated alias for the builtin `float`. To silence this warning, use `float` by itself. Doing this will not modify any behavior and is safe. If you specifically wanted the numpy scalar type, use `np.float64` here.\n",
            "Deprecated in NumPy 1.20; for more details and guidance: https://numpy.org/devdocs/release/1.20.0-notes.html#deprecations\n",
            "  y_enc = self._one_hot(y=y, n_labels=self.n_classes, dtype=np.float)\n"
          ]
        },
        {
          "output_type": "execute_result",
          "data": {
            "text/plain": [
              "<__main__.SoftmaxRegression at 0x7f8dc54104f0>"
            ]
          },
          "metadata": {},
          "execution_count": 64
        }
      ]
    },
    {
      "cell_type": "code",
      "source": [
        "plot_decision_regions(X, y, clf=lr)\n",
        "plt.title('Softmax Regression - Stochastic Gradient Descent')\n",
        "plt.show()\n",
        "\n",
        "plt.plot(range(len(lr.cost_)), lr.cost_)\n",
        "plt.xlabel('Iterations')\n",
        "plt.ylabels('Cost')\n",
        "plt.show()"
      ],
      "metadata": {
        "colab": {
          "base_uri": "https://localhost:8080/",
          "height": 746
        },
        "id": "TnZax9yZgmH6",
        "outputId": "171aab31-ef1d-4e97-b14d-5132b6dda8a4"
      },
      "execution_count": 66,
      "outputs": [
        {
          "output_type": "display_data",
          "data": {
            "text/plain": [
              "<Figure size 432x288 with 1 Axes>"
            ],
            "image/png": "[encoded data removed]"
          },
          "metadata": {
            "needs_background": "light"
          }
        },
        {
          "output_type": "error",
          "ename": "AttributeError",
          "evalue": "ignored",
          "traceback": [
            "\u001b[0;31m---------------------------------------------------------------------------\u001b[0m",
            "\u001b[0;31mAttributeError\u001b[0m                            Traceback (most recent call last)",
            "\u001b[0;32m<ipython-input-66-bf42ddaf2ae4>\u001b[0m in \u001b[0;36m<module>\u001b[0;34m\u001b[0m\n\u001b[1;32m      5\u001b[0m \u001b[0mplt\u001b[0m\u001b[0;34m.\u001b[0m\u001b[0mplot\u001b[0m\u001b[0;34m(\u001b[0m\u001b[0mrange\u001b[0m\u001b[0;34m(\u001b[0m\u001b[0mlen\u001b[0m\u001b[0;34m(\u001b[0m\u001b[0mlr\u001b[0m\u001b[0;34m.\u001b[0m\u001b[0mcost_\u001b[0m\u001b[0;34m)\u001b[0m\u001b[0;34m)\u001b[0m\u001b[0;34m,\u001b[0m \u001b[0mlr\u001b[0m\u001b[0;34m.\u001b[0m\u001b[0mcost_\u001b[0m\u001b[0;34m)\u001b[0m\u001b[0;34m\u001b[0m\u001b[0;34m\u001b[0m\u001b[0m\n\u001b[1;32m      6\u001b[0m \u001b[0mplt\u001b[0m\u001b[0;34m.\u001b[0m\u001b[0mxlabel\u001b[0m\u001b[0;34m(\u001b[0m\u001b[0;34m'Iterations'\u001b[0m\u001b[0;34m)\u001b[0m\u001b[0;34m\u001b[0m\u001b[0;34m\u001b[0m\u001b[0m\n\u001b[0;32m----> 7\u001b[0;31m \u001b[0mplt\u001b[0m\u001b[0;34m.\u001b[0m\u001b[0mylabels\u001b[0m\u001b[0;34m(\u001b[0m\u001b[0;34m'Cost'\u001b[0m\u001b[0;34m)\u001b[0m\u001b[0;34m\u001b[0m\u001b[0;34m\u001b[0m\u001b[0m\n\u001b[0m\u001b[1;32m      8\u001b[0m \u001b[0mplt\u001b[0m\u001b[0;34m.\u001b[0m\u001b[0mshow\u001b[0m\u001b[0;34m(\u001b[0m\u001b[0;34m)\u001b[0m\u001b[0;34m\u001b[0m\u001b[0;34m\u001b[0m\u001b[0m\n",
            "\u001b[0;31mAttributeError\u001b[0m: module 'matplotlib.pyplot' has no attribute 'ylabels'"
          ]
        },
        {
          "output_type": "display_data",
          "data": {
            "text/plain": [
              "<Figure size 432x288 with 1 Axes>"
            ],
            "image/png": "[encoded data removed]"
          },
          "metadata": {
            "needs_background": "light"
          }
        }
      ]
    }
  ]
}