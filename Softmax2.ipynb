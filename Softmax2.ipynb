{
  "nbformat": 4,
  "nbformat_minor": 0,
  "metadata": {
    "colab": {
      "provenance": [],
      "authorship_tag": "ABX9TyM+cp50GQKsolmfLvuW9R8y",
      "include_colab_link": true
    },
    "kernelspec": {
      "name": "python3",
      "display_name": "Python 3"
    },
    "language_info": {
      "name": "python"
    }
  },
  "cells": [
    {
      "cell_type": "markdown",
      "metadata": {
        "id": "view-in-github",
        "colab_type": "text"
      },
      "source": [
        "<a href=\"https://colab.research.google.com/github/HaniyeDousti/Machine-Learning-Project/blob/main/Softmax2.ipynb\" target=\"_parent\"><img src=\"https://colab.research.google.com/assets/colab-badge.svg\" alt=\"Open In Colab\"/></a>"
      ]
    },
    {
      "cell_type": "code",
      "execution_count": null,
      "metadata": {
        "id": "Vt6LHra9x0nQ"
      },
      "outputs": [],
      "source": [
        "from sklearn.datasets import load_iris\n",
        "from sklearn.model_selection import train_test_split\n",
        "import numpy as np\n",
        "import matplotlib.pyplot as plt"
      ]
    },
    {
      "cell_type": "markdown",
      "source": [
        "**Load Data**"
      ],
      "metadata": {
        "id": "8-E7_Fd-yIuP"
      }
    },
    {
      "cell_type": "code",
      "source": [
        "iris_data = load_iris()\n",
        "X_train, X_test, y_train, y_test = train_test_split(iris_data.data, iris_data.target, test_size=0.25)\n",
        "\n",
        "m = X_train.shape[0]\n",
        "\n",
        "X = np.hstack((np.ones((m, 1)), X_train))"
      ],
      "metadata": {
        "id": "07jWaq_PyH4X"
      },
      "execution_count": null,
      "outputs": []
    },
    {
      "cell_type": "code",
      "source": [
        "k = np.unique(iris_data.target)\n",
        "k.sort()\n",
        "\n",
        "Y = np.zeros((m, len(k)))\n",
        "\n",
        "for cls in k.astype(int):\n",
        "  Y[np.where(y_train[:] == cls), cls] = 1"
      ],
      "metadata": {
        "id": "2jOusHxgzgzT"
      },
      "execution_count": null,
      "outputs": []
    },
    {
      "cell_type": "markdown",
      "source": [
        "**Softmax Function**"
      ],
      "metadata": {
        "id": "A8TBgBqGc8hM"
      }
    },
    {
      "cell_type": "code",
      "source": [
        "def softmax(z):\n",
        "  return np.exp(z) / np.sum(np.exp(z), axis=1).reshape(z.shape[0], 1)"
      ],
      "metadata": {
        "id": "GwlZiGdXdEun"
      },
      "execution_count": null,
      "outputs": []
    },
    {
      "cell_type": "markdown",
      "source": [
        "**Softmax Regression Implementation**"
      ],
      "metadata": {
        "id": "ihgm6gDRdgoR"
      }
    },
    {
      "cell_type": "code",
      "source": [
        "#define theta with size 3,5 as there are 3 classes and 5 features, lets take the initial value as 0\n",
        "theta = np.zeros((3,5))\n",
        "\n",
        "#Learning rate\n",
        "learning_rate = 0.001\n",
        "\n",
        "#cost values\n",
        "cost_arr = []\n",
        "\n",
        "#no of iterations we want our model to be trained\n",
        "no_of_iteration = 50000\n",
        "\n",
        "#counter\n",
        "i = 0\n",
        "\n",
        "for i in range(no_of_iteration):\n",
        "\n",
        "  #model function\n",
        "  lineq = np.dot(X, theta.T)\n",
        "  h = softmax(lineq)\n",
        "\n",
        "  #cost function\n",
        "  cost = -np.sum(Y * np.log(h)) / m\n",
        "  cost_arr.append(cost)\n",
        "\n",
        "  # using gradient calculate new theta\n",
        "  delta = (learning_rate/m) * np.dot((h-Y).T, X)\n",
        "  theta = theta - delta\n",
        "\n",
        "  i = i + 1\n",
        "\n"
      ],
      "metadata": {
        "id": "4nofSRkTdeTh"
      },
      "execution_count": null,
      "outputs": []
    },
    {
      "cell_type": "code",
      "source": [
        "plt.plot(cost_arr)\n",
        "plt.show()"
      ],
      "metadata": {
        "colab": {
          "base_uri": "https://localhost:8080/",
          "height": 265
        },
        "id": "ksPNaOoJhK0P",
        "outputId": "b32d6af8-805f-42f5-8672-7170dbeaa194"
      },
      "execution_count": null,
      "outputs": [
        {
          "output_type": "display_data",
          "data": {
            "text/plain": [
              "<Figure size 432x288 with 1 Axes>"
            ],
            "image/png": "[encoded data removed]"
          },
          "metadata": {
            "needs_background": "light"
          }
        }
      ]
    },
    {
      "cell_type": "markdown",
      "source": [
        "**Prediction on test data**"
      ],
      "metadata": {
        "id": "x0NnbOqahS_H"
      }
    },
    {
      "cell_type": "code",
      "source": [
        "m_test = X_test.shape[0]\n",
        "\n",
        "X_test = np.hstack((np.ones((m_test, 1)), X_test))\n",
        "\n",
        "probab = softmax(np.dot(X_test, theta.T))\n",
        "predict = np.argmax(probab, axis=1)\n"
      ],
      "metadata": {
        "id": "AXwiuJzahS1H"
      },
      "execution_count": null,
      "outputs": []
    },
    {
      "cell_type": "code",
      "source": [
        "predict"
      ],
      "metadata": {
        "colab": {
          "base_uri": "https://localhost:8080/"
        },
        "id": "xXptAWbOh70m",
        "outputId": "f93fa1ef-f681-45f7-b674-2651a8899bb6"
      },
      "execution_count": null,
      "outputs": [
        {
          "output_type": "execute_result",
          "data": {
            "text/plain": [
              "array([1, 2, 2, 0, 2, 1, 2, 0, 2, 1, 0, 1, 2, 2, 1, 1, 2, 1, 2, 2, 2, 0,\n",
              "       1, 0, 1, 0, 1, 2, 2, 0, 2, 1, 0, 0, 0, 0, 1, 1])"
            ]
          },
          "metadata": {},
          "execution_count": 10
        }
      ]
    },
    {
      "cell_type": "markdown",
      "source": [
        "**Comparing our model with scikit library**"
      ],
      "metadata": {
        "id": "Wp_TYye0h_NU"
      }
    },
    {
      "cell_type": "code",
      "source": [
        "from sklearn import linear_model\n",
        "from sklearn.metrics import mean_squared_error, explained_variance_score, accuracy_score\n"
      ],
      "metadata": {
        "id": "8WZfV773iCY1"
      },
      "execution_count": null,
      "outputs": []
    },
    {
      "cell_type": "code",
      "source": [
        "regr = linear_model.LogisticRegression()\n",
        "regr.fit(X, y_train)\n",
        "\n",
        "sklearn_predict = regr.predict(X_test)\n",
        "\n",
        "print('Sklearn')\n",
        "\n",
        "#Coefficients\n",
        "print('Coefficients: {}'.format(regr.coef_))\n",
        "\n",
        "#Accuracy Score\n",
        "print('Accuracy Score: %.2f % accuracy_score(sklearn_predict, y_test)')\n",
        "\n",
        "#The mean squared score\n",
        "print(\"Mean squared error: %.2f\" % mean_squared_error(sklearn_predict, y_test))\n",
        "\n",
        "# Explained variance score: 1 is perfect prediction\n",
        "print('Variance score: %.2f' % explained_variance_score(y_test, sklearn_predict))\n",
        "\n",
        "print('\\n')\n",
        "print('Our Model')\n",
        "\n",
        "#coefficients\n",
        "print('Coefficients: {}'.format(theta))\n",
        "\n",
        "# Accuracy score\n",
        "print(\"Accuracy score: %.2f\" % accuracy_score(predict, y_test))\n",
        "\n",
        "# The mean squared error\n",
        "print(\"Mean squared error: %.2f\" % mean_squared_error(predict, y_test))\n",
        "\n",
        "# Explained variance score: 1 is perfect prediction\n",
        "print('Variance score: %.2f' % explained_variance_score(y_test, predict))\n"
      ],
      "metadata": {
        "colab": {
          "base_uri": "https://localhost:8080/"
        },
        "id": "uQpK61ojiIMF",
        "outputId": "9fbb1416-b8c3-4279-c2b6-248593ce4f1b"
      },
      "execution_count": null,
      "outputs": [
        {
          "output_type": "stream",
          "name": "stdout",
          "text": [
            "Sklearn\n",
            "Coefficients: [[ 2.67822805e-04 -4.16060825e-01  8.30971569e-01 -2.31380262e+00\n",
            "  -9.92852223e-01]\n",
            " [-2.97128582e-04  4.94196535e-01 -4.52474888e-01 -1.83625182e-01\n",
            "  -7.98769286e-01]\n",
            " [ 2.93057770e-05 -7.81357100e-02 -3.78496681e-01  2.49742780e+00\n",
            "   1.79162151e+00]]\n",
            "Accuracy Score: %.2f % accuracy_score(sklearn_predict, y_test)\n",
            "Mean squared error: 0.05\n",
            "Variance score: 0.92\n",
            "\n",
            "\n",
            "Our Model\n",
            "Coefficients: [[ 0.32697675  0.66545793  1.59753057 -2.21521924 -1.02078597]\n",
            " [ 0.33850437  0.59625848 -0.35640086  0.02740613 -0.86805935]\n",
            " [-0.66548112 -1.26171641 -1.24112971  2.18781312  1.88884531]]\n",
            "Accuracy score: 0.95\n",
            "Mean squared error: 0.05\n",
            "Variance score: 0.92\n"
          ]
        },
        {
          "output_type": "stream",
          "name": "stderr",
          "text": [
            "/usr/local/lib/python3.8/dist-packages/sklearn/linear_model/_logistic.py:814: ConvergenceWarning: lbfgs failed to converge (status=1):\n",
            "STOP: TOTAL NO. of ITERATIONS REACHED LIMIT.\n",
            "\n",
            "Increase the number of iterations (max_iter) or scale the data as shown in:\n",
            "    https://scikit-learn.org/stable/modules/preprocessing.html\n",
            "Please also refer to the documentation for alternative solver options:\n",
            "    https://scikit-learn.org/stable/modules/linear_model.html#logistic-regression\n",
            "  n_iter_i = _check_optimize_result(\n"
          ]
        }
      ]
    }
  ]
}